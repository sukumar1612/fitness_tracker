{
  "nbformat": 4,
  "nbformat_minor": 0,
  "metadata": {
    "colab": {
      "name": "SparkMLCaloriesBurnt.ipynb",
      "provenance": [],
      "collapsed_sections": [],
      "authorship_tag": "ABX9TyOIAUKkrUrW605bEpJpYfYC",
      "include_colab_link": true
    },
    "kernelspec": {
      "name": "python3",
      "display_name": "Python 3"
    },
    "language_info": {
      "name": "python"
    }
  },
  "cells": [
    {
      "cell_type": "markdown",
      "metadata": {
        "id": "view-in-github",
        "colab_type": "text"
      },
      "source": [
        "<a href=\"https://colab.research.google.com/github/sukumar1612/fitness_tracker/blob/feature_saket/fitness_tracker/machine_learning/SparkMLCaloriesBurnt.ipynb\" target=\"_parent\"><img src=\"https://colab.research.google.com/assets/colab-badge.svg\" alt=\"Open In Colab\"/></a>"
      ]
    },
    {
      "cell_type": "code",
      "metadata": {
        "colab": {
          "base_uri": "https://localhost:8080/"
        },
        "id": "v3KetUCCht3b",
        "outputId": "43c09eb0-c7e4-4488-af3a-306439346cfb"
      },
      "source": [
        "!pip install pyspark"
      ],
      "execution_count": 1,
      "outputs": [
        {
          "output_type": "stream",
          "name": "stdout",
          "text": [
            "Collecting pyspark\n",
            "  Downloading pyspark-3.2.0.tar.gz (281.3 MB)\n",
            "\u001b[K     |████████████████████████████████| 281.3 MB 37 kB/s \n",
            "\u001b[?25hCollecting py4j==0.10.9.2\n",
            "  Downloading py4j-0.10.9.2-py2.py3-none-any.whl (198 kB)\n",
            "\u001b[K     |████████████████████████████████| 198 kB 63.6 MB/s \n",
            "\u001b[?25hBuilding wheels for collected packages: pyspark\n",
            "  Building wheel for pyspark (setup.py) ... \u001b[?25l\u001b[?25hdone\n",
            "  Created wheel for pyspark: filename=pyspark-3.2.0-py2.py3-none-any.whl size=281805912 sha256=8fe511db630f5c2f46a24d79e4aa9bba338c0bb46ef5744eed2af525ee0376ab\n",
            "  Stored in directory: /root/.cache/pip/wheels/0b/de/d2/9be5d59d7331c6c2a7c1b6d1a4f463ce107332b1ecd4e80718\n",
            "Successfully built pyspark\n",
            "Installing collected packages: py4j, pyspark\n",
            "Successfully installed py4j-0.10.9.2 pyspark-3.2.0\n"
          ]
        }
      ]
    },
    {
      "cell_type": "code",
      "metadata": {
        "id": "6wf764JRNT1k",
        "colab": {
          "base_uri": "https://localhost:8080/"
        },
        "outputId": "1d453019-3e51-490b-a9a5-93b72eb832fc"
      },
      "source": [
        "pip freeze"
      ],
      "execution_count": 2,
      "outputs": [
        {
          "output_type": "stream",
          "name": "stdout",
          "text": [
            "absl-py==0.12.0\n",
            "alabaster==0.7.12\n",
            "albumentations==0.1.12\n",
            "altair==4.1.0\n",
            "appdirs==1.4.4\n",
            "argcomplete==1.12.3\n",
            "argon2-cffi==21.1.0\n",
            "arviz==0.11.4\n",
            "astor==0.8.1\n",
            "astropy==4.3.1\n",
            "astunparse==1.6.3\n",
            "atari-py==0.2.9\n",
            "atomicwrites==1.4.0\n",
            "attrs==21.2.0\n",
            "audioread==2.1.9\n",
            "autograd==1.3\n",
            "Babel==2.9.1\n",
            "backcall==0.2.0\n",
            "beautifulsoup4==4.6.3\n",
            "bleach==4.1.0\n",
            "blis==0.4.1\n",
            "bokeh==2.3.3\n",
            "Bottleneck==1.3.2\n",
            "branca==0.4.2\n",
            "bs4==0.0.1\n",
            "CacheControl==0.12.10\n",
            "cached-property==1.5.2\n",
            "cachetools==4.2.4\n",
            "catalogue==1.0.0\n",
            "certifi==2021.10.8\n",
            "cffi==1.15.0\n",
            "cftime==1.5.1.1\n",
            "chardet==3.0.4\n",
            "charset-normalizer==2.0.7\n",
            "click==7.1.2\n",
            "cloudpickle==1.3.0\n",
            "cmake==3.12.0\n",
            "cmdstanpy==0.9.5\n",
            "colorcet==2.0.6\n",
            "colorlover==0.3.0\n",
            "community==1.0.0b1\n",
            "contextlib2==0.5.5\n",
            "convertdate==2.3.2\n",
            "coverage==3.7.1\n",
            "coveralls==0.5\n",
            "crcmod==1.7\n",
            "cufflinks==0.17.3\n",
            "cvxopt==1.2.7\n",
            "cvxpy==1.0.31\n",
            "cycler==0.11.0\n",
            "cymem==2.0.6\n",
            "Cython==0.29.24\n",
            "daft==0.0.4\n",
            "dask==2.12.0\n",
            "datascience==0.10.6\n",
            "debugpy==1.0.0\n",
            "decorator==4.4.2\n",
            "defusedxml==0.7.1\n",
            "descartes==1.1.0\n",
            "dill==0.3.4\n",
            "distributed==1.25.3\n",
            "dlib @ file:///dlib-19.18.0-cp37-cp37m-linux_x86_64.whl\n",
            "dm-tree==0.1.6\n",
            "docopt==0.6.2\n",
            "docutils==0.18\n",
            "dopamine-rl==1.0.5\n",
            "earthengine-api==0.1.288\n",
            "easydict==1.9\n",
            "ecos==2.0.7.post1\n",
            "editdistance==0.5.3\n",
            "en-core-web-sm @ https://github.com/explosion/spacy-models/releases/download/en_core_web_sm-2.2.5/en_core_web_sm-2.2.5.tar.gz\n",
            "entrypoints==0.3\n",
            "ephem==4.1\n",
            "et-xmlfile==1.1.0\n",
            "fa2==0.3.5\n",
            "fastai==1.0.61\n",
            "fastdtw==0.3.4\n",
            "fastprogress==1.0.0\n",
            "fastrlock==0.8\n",
            "fbprophet==0.7.1\n",
            "feather-format==0.4.1\n",
            "filelock==3.3.2\n",
            "firebase-admin==4.4.0\n",
            "fix-yahoo-finance==0.0.22\n",
            "Flask==1.1.4\n",
            "flatbuffers==2.0\n",
            "folium==0.8.3\n",
            "future==0.16.0\n",
            "gast==0.4.0\n",
            "GDAL==2.2.2\n",
            "gdown==3.6.4\n",
            "gensim==3.6.0\n",
            "geographiclib==1.52\n",
            "geopy==1.17.0\n",
            "gin-config==0.5.0\n",
            "glob2==0.7\n",
            "google==2.0.3\n",
            "google-api-core==1.26.3\n",
            "google-api-python-client==1.12.8\n",
            "google-auth==1.35.0\n",
            "google-auth-httplib2==0.0.4\n",
            "google-auth-oauthlib==0.4.6\n",
            "google-cloud-bigquery==1.21.0\n",
            "google-cloud-bigquery-storage==1.1.0\n",
            "google-cloud-core==1.0.3\n",
            "google-cloud-datastore==1.8.0\n",
            "google-cloud-firestore==1.7.0\n",
            "google-cloud-language==1.2.0\n",
            "google-cloud-storage==1.18.1\n",
            "google-cloud-translate==1.5.0\n",
            "google-colab @ file:///colabtools/dist/google-colab-1.0.0.tar.gz\n",
            "google-pasta==0.2.0\n",
            "google-resumable-media==0.4.1\n",
            "googleapis-common-protos==1.53.0\n",
            "googledrivedownloader==0.4\n",
            "graphviz==0.10.1\n",
            "greenlet==1.1.2\n",
            "grpcio==1.41.1\n",
            "gspread==3.0.1\n",
            "gspread-dataframe==3.0.8\n",
            "gym==0.17.3\n",
            "h5py==3.1.0\n",
            "HeapDict==1.0.1\n",
            "hijri-converter==2.2.2\n",
            "holidays==0.10.5.2\n",
            "holoviews==1.14.6\n",
            "html5lib==1.0.1\n",
            "httpimport==0.5.18\n",
            "httplib2==0.17.4\n",
            "httplib2shim==0.0.3\n",
            "humanize==0.5.1\n",
            "hyperopt==0.1.2\n",
            "ideep4py==2.0.0.post3\n",
            "idna==2.10\n",
            "imageio==2.4.1\n",
            "imagesize==1.3.0\n",
            "imbalanced-learn==0.8.1\n",
            "imblearn==0.0\n",
            "imgaug==0.2.9\n",
            "importlib-metadata==4.8.2\n",
            "importlib-resources==5.4.0\n",
            "imutils==0.5.4\n",
            "inflect==2.1.0\n",
            "iniconfig==1.1.1\n",
            "intel-openmp==2021.4.0\n",
            "intervaltree==2.1.0\n",
            "ipykernel==4.10.1\n",
            "ipython==5.5.0\n",
            "ipython-genutils==0.2.0\n",
            "ipython-sql==0.3.9\n",
            "ipywidgets==7.6.5\n",
            "itsdangerous==1.1.0\n",
            "jax==0.2.21\n",
            "jaxlib @ https://storage.googleapis.com/jax-releases/cuda111/jaxlib-0.1.71+cuda111-cp37-none-manylinux2010_x86_64.whl\n",
            "jdcal==1.4.1\n",
            "jedi==0.18.0\n",
            "jieba==0.42.1\n",
            "Jinja2==2.11.3\n",
            "joblib==1.1.0\n",
            "jpeg4py==0.1.4\n",
            "jsonschema==2.6.0\n",
            "jupyter==1.0.0\n",
            "jupyter-client==5.3.5\n",
            "jupyter-console==5.2.0\n",
            "jupyter-core==4.9.1\n",
            "jupyterlab-pygments==0.1.2\n",
            "jupyterlab-widgets==1.0.2\n",
            "kaggle==1.5.12\n",
            "kapre==0.3.5\n",
            "keras==2.7.0\n",
            "Keras-Preprocessing==1.1.2\n",
            "keras-vis==0.4.1\n",
            "kiwisolver==1.3.2\n",
            "korean-lunar-calendar==0.2.1\n",
            "libclang==12.0.0\n",
            "librosa==0.8.1\n",
            "lightgbm==2.2.3\n",
            "llvmlite==0.34.0\n",
            "lmdb==0.99\n",
            "LunarCalendar==0.0.9\n",
            "lxml==4.2.6\n",
            "Markdown==3.3.4\n",
            "MarkupSafe==2.0.1\n",
            "matplotlib==3.2.2\n",
            "matplotlib-inline==0.1.3\n",
            "matplotlib-venn==0.11.6\n",
            "missingno==0.5.0\n",
            "mistune==0.8.4\n",
            "mizani==0.6.0\n",
            "mkl==2019.0\n",
            "mlxtend==0.14.0\n",
            "more-itertools==8.11.0\n",
            "moviepy==0.2.3.5\n",
            "mpmath==1.2.1\n",
            "msgpack==1.0.2\n",
            "multiprocess==0.70.12.2\n",
            "multitasking==0.0.9\n",
            "murmurhash==1.0.6\n",
            "music21==5.5.0\n",
            "natsort==5.5.0\n",
            "nbclient==0.5.8\n",
            "nbconvert==5.6.1\n",
            "nbformat==5.1.3\n",
            "nest-asyncio==1.5.1\n",
            "netCDF4==1.5.8\n",
            "networkx==2.6.3\n",
            "nibabel==3.0.2\n",
            "nltk==3.2.5\n",
            "notebook==5.3.1\n",
            "numba==0.51.2\n",
            "numexpr==2.7.3\n",
            "numpy==1.19.5\n",
            "nvidia-ml-py3==7.352.0\n",
            "oauth2client==4.1.3\n",
            "oauthlib==3.1.1\n",
            "okgrade==0.4.3\n",
            "opencv-contrib-python==4.1.2.30\n",
            "opencv-python==4.1.2.30\n",
            "openpyxl==2.5.9\n",
            "opt-einsum==3.3.0\n",
            "osqp==0.6.2.post0\n",
            "packaging==21.2\n",
            "palettable==3.3.0\n",
            "pandas==1.1.5\n",
            "pandas-datareader==0.9.0\n",
            "pandas-gbq==0.13.3\n",
            "pandas-profiling==1.4.1\n",
            "pandocfilters==1.5.0\n",
            "panel==0.12.1\n",
            "param==1.12.0\n",
            "parso==0.8.2\n",
            "pathlib==1.0.1\n",
            "patsy==0.5.2\n",
            "pep517==0.12.0\n",
            "pexpect==4.8.0\n",
            "pickleshare==0.7.5\n",
            "Pillow==7.1.2\n",
            "pip-tools==6.2.0\n",
            "plac==1.1.3\n",
            "plotly==4.4.1\n",
            "plotnine==0.6.0\n",
            "pluggy==0.7.1\n",
            "pooch==1.5.2\n",
            "portpicker==1.3.9\n",
            "prefetch-generator==1.0.1\n",
            "preshed==3.0.6\n",
            "prettytable==2.4.0\n",
            "progressbar2==3.38.0\n",
            "prometheus-client==0.12.0\n",
            "promise==2.3\n",
            "prompt-toolkit==1.0.18\n",
            "protobuf==3.17.3\n",
            "psutil==5.4.8\n",
            "psycopg2==2.7.6.1\n",
            "ptyprocess==0.7.0\n",
            "py==1.11.0\n",
            "py4j==0.10.9.2\n",
            "pyarrow==3.0.0\n",
            "pyasn1==0.4.8\n",
            "pyasn1-modules==0.2.8\n",
            "pycocotools==2.0.2\n",
            "pycparser==2.21\n",
            "pyct==0.4.8\n",
            "pydata-google-auth==1.2.0\n",
            "pydot==1.3.0\n",
            "pydot-ng==2.0.0\n",
            "pydotplus==2.0.2\n",
            "PyDrive==1.3.1\n",
            "pyemd==0.5.1\n",
            "pyerfa==2.0.0.1\n",
            "pyglet==1.5.0\n",
            "Pygments==2.6.1\n",
            "pygobject==3.26.1\n",
            "pymc3==3.11.4\n",
            "PyMeeus==0.5.11\n",
            "pymongo==3.12.1\n",
            "pymystem3==0.2.0\n",
            "PyOpenGL==3.1.5\n",
            "pyparsing==2.4.7\n",
            "pyrsistent==0.18.0\n",
            "pysndfile==1.3.8\n",
            "PySocks==1.7.1\n",
            "pyspark==3.2.0\n",
            "pystan==2.19.1.1\n",
            "pytest==3.6.4\n",
            "python-apt==0.0.0\n",
            "python-chess==0.23.11\n",
            "python-dateutil==2.8.2\n",
            "python-louvain==0.15\n",
            "python-slugify==5.0.2\n",
            "python-utils==2.5.6\n",
            "pytz==2018.9\n",
            "pyviz-comms==2.1.0\n",
            "PyWavelets==1.2.0\n",
            "PyYAML==3.13\n",
            "pyzmq==22.3.0\n",
            "qdldl==0.1.5.post0\n",
            "qtconsole==5.2.0\n",
            "QtPy==1.11.2\n",
            "regex==2019.12.20\n",
            "requests==2.23.0\n",
            "requests-oauthlib==1.3.0\n",
            "resampy==0.2.2\n",
            "retrying==1.3.3\n",
            "rpy2==3.4.5\n",
            "rsa==4.7.2\n",
            "scikit-image==0.18.3\n",
            "scikit-learn==1.0.1\n",
            "scipy==1.4.1\n",
            "screen-resolution-extra==0.0.0\n",
            "scs==2.1.4\n",
            "seaborn==0.11.2\n",
            "semver==2.13.0\n",
            "Send2Trash==1.8.0\n",
            "setuptools-git==1.2\n",
            "Shapely==1.8.0\n",
            "simplegeneric==0.8.1\n",
            "six==1.15.0\n",
            "sklearn==0.0\n",
            "sklearn-pandas==1.8.0\n",
            "smart-open==5.2.1\n",
            "snowballstemmer==2.1.0\n",
            "sortedcontainers==2.4.0\n",
            "SoundFile==0.10.3.post1\n",
            "spacy==2.2.4\n",
            "Sphinx==1.8.5\n",
            "sphinxcontrib-serializinghtml==1.1.5\n",
            "sphinxcontrib-websupport==1.2.4\n",
            "SQLAlchemy==1.4.26\n",
            "sqlparse==0.4.2\n",
            "srsly==1.0.5\n",
            "statsmodels==0.10.2\n",
            "sympy==1.7.1\n",
            "tables==3.4.4\n",
            "tabulate==0.8.9\n",
            "tblib==1.7.0\n",
            "tensorboard==2.7.0\n",
            "tensorboard-data-server==0.6.1\n",
            "tensorboard-plugin-wit==1.8.0\n",
            "tensorflow @ file:///tensorflow-2.7.0-cp37-cp37m-linux_x86_64.whl\n",
            "tensorflow-datasets==4.0.1\n",
            "tensorflow-estimator==2.7.0\n",
            "tensorflow-gcs-config==2.7.0\n",
            "tensorflow-hub==0.12.0\n",
            "tensorflow-io-gcs-filesystem==0.22.0\n",
            "tensorflow-metadata==1.4.0\n",
            "tensorflow-probability==0.14.1\n",
            "termcolor==1.1.0\n",
            "terminado==0.12.1\n",
            "testpath==0.5.0\n",
            "text-unidecode==1.3\n",
            "textblob==0.15.3\n",
            "Theano-PyMC==1.1.2\n",
            "thinc==7.4.0\n",
            "threadpoolctl==3.0.0\n",
            "tifffile==2021.11.2\n",
            "toml==0.10.2\n",
            "tomli==1.2.2\n",
            "toolz==0.11.2\n",
            "torch @ https://download.pytorch.org/whl/cu111/torch-1.10.0%2Bcu111-cp37-cp37m-linux_x86_64.whl\n",
            "torchsummary==1.5.1\n",
            "torchtext==0.11.0\n",
            "torchvision @ https://download.pytorch.org/whl/cu111/torchvision-0.11.1%2Bcu111-cp37-cp37m-linux_x86_64.whl\n",
            "tornado==5.1.1\n",
            "tqdm==4.62.3\n",
            "traitlets==5.1.1\n",
            "tweepy==3.10.0\n",
            "typeguard==2.7.1\n",
            "typing-extensions==3.10.0.2\n",
            "tzlocal==1.5.1\n",
            "uritemplate==3.0.1\n",
            "urllib3==1.24.3\n",
            "vega-datasets==0.9.0\n",
            "wasabi==0.8.2\n",
            "wcwidth==0.2.5\n",
            "webencodings==0.5.1\n",
            "Werkzeug==1.0.1\n",
            "widgetsnbextension==3.5.2\n",
            "wordcloud==1.5.0\n",
            "wrapt==1.13.3\n",
            "xarray==0.18.2\n",
            "xgboost==0.90\n",
            "xkit==0.0.0\n",
            "xlrd==1.1.0\n",
            "xlwt==1.3.0\n",
            "yellowbrick==1.3.post1\n",
            "zict==2.0.0\n",
            "zipp==3.6.0\n"
          ]
        }
      ]
    },
    {
      "cell_type": "code",
      "metadata": {
        "id": "-iBFvv8Ff5xA",
        "colab": {
          "base_uri": "https://localhost:8080/"
        },
        "outputId": "906c99dd-1564-40cb-dbbd-586661a5ad4f"
      },
      "source": [
        "from pyspark.sql import SparkSession\n",
        "spark = SparkSession.builder.appName('data').getOrCreate()\n",
        "caloriedf = spark.read.csv('exercise.csv',inferSchema=True,header=True)\n",
        "caloriedf.show()"
      ],
      "execution_count": 4,
      "outputs": [
        {
          "output_type": "stream",
          "name": "stdout",
          "text": [
            "+--------+------+---+------+------+--------+----------+---------+--------+\n",
            "| User_ID|Gender|Age|Height|Weight|Duration|Heart_Rate|Body_Temp|Calories|\n",
            "+--------+------+---+------+------+--------+----------+---------+--------+\n",
            "|14733363|  male| 68|   190|    94|      29|       105|     40.8|     231|\n",
            "|14861698|female| 20|   166|    60|      14|        94|     40.3|      66|\n",
            "|11179863|  male| 69|   179|    79|       5|        88|     38.7|      26|\n",
            "|16180408|female| 34|   179|    71|      13|       100|     40.5|      71|\n",
            "|17771927|female| 27|   154|    58|      10|        81|     39.8|      35|\n",
            "|15130815|female| 36|   151|    50|      23|        96|     40.7|     123|\n",
            "|19602372|female| 33|   158|    56|      22|        95|     40.5|     112|\n",
            "|11117088|  male| 41|   175|    85|      25|       100|     40.7|     143|\n",
            "|12132339|  male| 60|   186|    94|      21|        97|     40.4|     134|\n",
            "|17964668|female| 26|   146|    51|      16|        90|     40.2|      72|\n",
            "|13723164|female| 36|   177|    76|       1|        74|     37.8|       3|\n",
            "|13681290|female| 21|   157|    56|      17|       100|     40.0|      92|\n",
            "|15566424|  male| 66|   171|    79|      11|        90|     40.0|      58|\n",
            "|12891699|female| 32|   157|    54|      18|        93|     40.4|      88|\n",
            "|13823829|  male| 53|   182|    85|       2|        82|     38.1|       7|\n",
            "|17557348|female| 39|   156|    62|      28|       104|     40.8|     170|\n",
            "|12198133|  male| 39|   182|    82|       4|        82|     38.6|      11|\n",
            "|15236104|  male| 46|   169|    67|      11|        89|     40.2|      43|\n",
            "|11042324|female| 27|   171|    65|       4|        85|     38.6|      15|\n",
            "|16864285|  male| 50|   188|    86|      14|        94|     40.2|      74|\n",
            "+--------+------+---+------+------+--------+----------+---------+--------+\n",
            "only showing top 20 rows\n",
            "\n"
          ]
        }
      ]
    },
    {
      "cell_type": "code",
      "metadata": {
        "id": "T16poC4LNUti"
      },
      "source": [
        "from pyspark.ml.feature import StandardScaler"
      ],
      "execution_count": 5,
      "outputs": []
    },
    {
      "cell_type": "code",
      "metadata": {
        "id": "z4vz3BdyOBj2",
        "colab": {
          "base_uri": "https://localhost:8080/"
        },
        "outputId": "9f9e7497-933a-442c-e673-ab15a4fa40d6"
      },
      "source": [
        "type(caloriedf)"
      ],
      "execution_count": 6,
      "outputs": [
        {
          "output_type": "execute_result",
          "data": {
            "text/plain": [
              "pyspark.sql.dataframe.DataFrame"
            ]
          },
          "metadata": {},
          "execution_count": 6
        }
      ]
    },
    {
      "cell_type": "code",
      "metadata": {
        "colab": {
          "base_uri": "https://localhost:8080/"
        },
        "id": "qco4augSjJWl",
        "outputId": "346fcafb-1e04-40bd-831e-288c866a8867"
      },
      "source": [
        " caloriedf.printSchema()"
      ],
      "execution_count": 7,
      "outputs": [
        {
          "output_type": "stream",
          "name": "stdout",
          "text": [
            "root\n",
            " |-- User_ID: integer (nullable = true)\n",
            " |-- Gender: string (nullable = true)\n",
            " |-- Age: integer (nullable = true)\n",
            " |-- Height: integer (nullable = true)\n",
            " |-- Weight: integer (nullable = true)\n",
            " |-- Duration: integer (nullable = true)\n",
            " |-- Heart_Rate: integer (nullable = true)\n",
            " |-- Body_Temp: double (nullable = true)\n",
            " |-- Calories: integer (nullable = true)\n",
            "\n"
          ]
        }
      ]
    },
    {
      "cell_type": "code",
      "metadata": {
        "id": "6-xYc9F8TGFV"
      },
      "source": [
        "calorie_pd=caloriedf.toPandas()"
      ],
      "execution_count": 8,
      "outputs": []
    },
    {
      "cell_type": "code",
      "metadata": {
        "id": "ZEtp_67n8hpv",
        "colab": {
          "base_uri": "https://localhost:8080/",
          "height": 417
        },
        "outputId": "af8f6fa6-bc35-4b80-a940-52ce79145322"
      },
      "source": [
        "calorie_pd"
      ],
      "execution_count": 9,
      "outputs": [
        {
          "output_type": "execute_result",
          "data": {
            "text/html": [
              "<div>\n",
              "<style scoped>\n",
              "    .dataframe tbody tr th:only-of-type {\n",
              "        vertical-align: middle;\n",
              "    }\n",
              "\n",
              "    .dataframe tbody tr th {\n",
              "        vertical-align: top;\n",
              "    }\n",
              "\n",
              "    .dataframe thead th {\n",
              "        text-align: right;\n",
              "    }\n",
              "</style>\n",
              "<table border=\"1\" class=\"dataframe\">\n",
              "  <thead>\n",
              "    <tr style=\"text-align: right;\">\n",
              "      <th></th>\n",
              "      <th>User_ID</th>\n",
              "      <th>Gender</th>\n",
              "      <th>Age</th>\n",
              "      <th>Height</th>\n",
              "      <th>Weight</th>\n",
              "      <th>Duration</th>\n",
              "      <th>Heart_Rate</th>\n",
              "      <th>Body_Temp</th>\n",
              "      <th>Calories</th>\n",
              "    </tr>\n",
              "  </thead>\n",
              "  <tbody>\n",
              "    <tr>\n",
              "      <th>0</th>\n",
              "      <td>14733363</td>\n",
              "      <td>male</td>\n",
              "      <td>68</td>\n",
              "      <td>190</td>\n",
              "      <td>94</td>\n",
              "      <td>29</td>\n",
              "      <td>105</td>\n",
              "      <td>40.8</td>\n",
              "      <td>231</td>\n",
              "    </tr>\n",
              "    <tr>\n",
              "      <th>1</th>\n",
              "      <td>14861698</td>\n",
              "      <td>female</td>\n",
              "      <td>20</td>\n",
              "      <td>166</td>\n",
              "      <td>60</td>\n",
              "      <td>14</td>\n",
              "      <td>94</td>\n",
              "      <td>40.3</td>\n",
              "      <td>66</td>\n",
              "    </tr>\n",
              "    <tr>\n",
              "      <th>2</th>\n",
              "      <td>11179863</td>\n",
              "      <td>male</td>\n",
              "      <td>69</td>\n",
              "      <td>179</td>\n",
              "      <td>79</td>\n",
              "      <td>5</td>\n",
              "      <td>88</td>\n",
              "      <td>38.7</td>\n",
              "      <td>26</td>\n",
              "    </tr>\n",
              "    <tr>\n",
              "      <th>3</th>\n",
              "      <td>16180408</td>\n",
              "      <td>female</td>\n",
              "      <td>34</td>\n",
              "      <td>179</td>\n",
              "      <td>71</td>\n",
              "      <td>13</td>\n",
              "      <td>100</td>\n",
              "      <td>40.5</td>\n",
              "      <td>71</td>\n",
              "    </tr>\n",
              "    <tr>\n",
              "      <th>4</th>\n",
              "      <td>17771927</td>\n",
              "      <td>female</td>\n",
              "      <td>27</td>\n",
              "      <td>154</td>\n",
              "      <td>58</td>\n",
              "      <td>10</td>\n",
              "      <td>81</td>\n",
              "      <td>39.8</td>\n",
              "      <td>35</td>\n",
              "    </tr>\n",
              "    <tr>\n",
              "      <th>...</th>\n",
              "      <td>...</td>\n",
              "      <td>...</td>\n",
              "      <td>...</td>\n",
              "      <td>...</td>\n",
              "      <td>...</td>\n",
              "      <td>...</td>\n",
              "      <td>...</td>\n",
              "      <td>...</td>\n",
              "      <td>...</td>\n",
              "    </tr>\n",
              "    <tr>\n",
              "      <th>14995</th>\n",
              "      <td>15644082</td>\n",
              "      <td>female</td>\n",
              "      <td>20</td>\n",
              "      <td>193</td>\n",
              "      <td>86</td>\n",
              "      <td>11</td>\n",
              "      <td>92</td>\n",
              "      <td>40.4</td>\n",
              "      <td>45</td>\n",
              "    </tr>\n",
              "    <tr>\n",
              "      <th>14996</th>\n",
              "      <td>17212577</td>\n",
              "      <td>female</td>\n",
              "      <td>27</td>\n",
              "      <td>165</td>\n",
              "      <td>65</td>\n",
              "      <td>6</td>\n",
              "      <td>85</td>\n",
              "      <td>39.2</td>\n",
              "      <td>23</td>\n",
              "    </tr>\n",
              "    <tr>\n",
              "      <th>14997</th>\n",
              "      <td>17271188</td>\n",
              "      <td>female</td>\n",
              "      <td>43</td>\n",
              "      <td>159</td>\n",
              "      <td>58</td>\n",
              "      <td>16</td>\n",
              "      <td>90</td>\n",
              "      <td>40.1</td>\n",
              "      <td>75</td>\n",
              "    </tr>\n",
              "    <tr>\n",
              "      <th>14998</th>\n",
              "      <td>18643037</td>\n",
              "      <td>male</td>\n",
              "      <td>78</td>\n",
              "      <td>193</td>\n",
              "      <td>97</td>\n",
              "      <td>2</td>\n",
              "      <td>84</td>\n",
              "      <td>38.3</td>\n",
              "      <td>11</td>\n",
              "    </tr>\n",
              "    <tr>\n",
              "      <th>14999</th>\n",
              "      <td>11751526</td>\n",
              "      <td>male</td>\n",
              "      <td>63</td>\n",
              "      <td>173</td>\n",
              "      <td>79</td>\n",
              "      <td>18</td>\n",
              "      <td>92</td>\n",
              "      <td>40.5</td>\n",
              "      <td>98</td>\n",
              "    </tr>\n",
              "  </tbody>\n",
              "</table>\n",
              "<p>15000 rows × 9 columns</p>\n",
              "</div>"
            ],
            "text/plain": [
              "        User_ID  Gender  Age  Height  ...  Duration  Heart_Rate  Body_Temp  Calories\n",
              "0      14733363    male   68     190  ...        29         105       40.8       231\n",
              "1      14861698  female   20     166  ...        14          94       40.3        66\n",
              "2      11179863    male   69     179  ...         5          88       38.7        26\n",
              "3      16180408  female   34     179  ...        13         100       40.5        71\n",
              "4      17771927  female   27     154  ...        10          81       39.8        35\n",
              "...         ...     ...  ...     ...  ...       ...         ...        ...       ...\n",
              "14995  15644082  female   20     193  ...        11          92       40.4        45\n",
              "14996  17212577  female   27     165  ...         6          85       39.2        23\n",
              "14997  17271188  female   43     159  ...        16          90       40.1        75\n",
              "14998  18643037    male   78     193  ...         2          84       38.3        11\n",
              "14999  11751526    male   63     173  ...        18          92       40.5        98\n",
              "\n",
              "[15000 rows x 9 columns]"
            ]
          },
          "metadata": {},
          "execution_count": 9
        }
      ]
    },
    {
      "cell_type": "code",
      "metadata": {
        "id": "rFj7J69uTRUA"
      },
      "source": [
        "import seaborn as sns"
      ],
      "execution_count": 10,
      "outputs": []
    },
    {
      "cell_type": "code",
      "metadata": {
        "colab": {
          "base_uri": "https://localhost:8080/",
          "height": 386
        },
        "id": "gCpOKInLTtnD",
        "outputId": "67bbdaa7-b5f9-45e9-b45a-745b0c5949b0"
      },
      "source": [
        "sns.lmplot(x=\"Duration\",y=\"Calories\",data=calorie_pd)"
      ],
      "execution_count": 11,
      "outputs": [
        {
          "output_type": "execute_result",
          "data": {
            "text/plain": [
              "<seaborn.axisgrid.FacetGrid at 0x7f919941ee90>"
            ]
          },
          "metadata": {},
          "execution_count": 11
        },
        {
          "output_type": "display_data",
          "data": {
            "image/png": "[encoded data removed]",
            "text/plain": [
              "<Figure size 360x360 with 1 Axes>"
            ]
          },
          "metadata": {
            "needs_background": "light"
          }
        }
      ]
    },
    {
      "cell_type": "code",
      "metadata": {
        "colab": {
          "base_uri": "https://localhost:8080/",
          "height": 386
        },
        "id": "i7X0ghwSVd62",
        "outputId": "0d00e434-3a38-49cc-eb71-90fb61839e4a"
      },
      "source": [
        "sns.lmplot(x=\"Heart_Rate\",y=\"Calories\",data=calorie_pd)"
      ],
      "execution_count": 12,
      "outputs": [
        {
          "output_type": "execute_result",
          "data": {
            "text/plain": [
              "<seaborn.axisgrid.FacetGrid at 0x7f91841f3a10>"
            ]
          },
          "metadata": {},
          "execution_count": 12
        },
        {
          "output_type": "display_data",
          "data": {
            "image/png": "[encoded data removed]",
            "text/plain": [
              "<Figure size 360x360 with 1 Axes>"
            ]
          },
          "metadata": {
            "needs_background": "light"
          }
        }
      ]
    },
    {
      "cell_type": "code",
      "metadata": {
        "colab": {
          "base_uri": "https://localhost:8080/",
          "height": 386
        },
        "id": "u9yf9nE_VkZw",
        "outputId": "133f610f-8636-493e-b428-33dbc95714ea"
      },
      "source": [
        "sns.lmplot(x=\"Body_Temp\",y=\"Calories\",data=calorie_pd)"
      ],
      "execution_count": 13,
      "outputs": [
        {
          "output_type": "execute_result",
          "data": {
            "text/plain": [
              "<seaborn.axisgrid.FacetGrid at 0x7f9183d38890>"
            ]
          },
          "metadata": {},
          "execution_count": 13
        },
        {
          "output_type": "display_data",
          "data": {
            "image/png": "[encoded data removed]",
            "text/plain": [
              "<Figure size 360x360 with 1 Axes>"
            ]
          },
          "metadata": {
            "needs_background": "light"
          }
        }
      ]
    },
    {
      "cell_type": "code",
      "metadata": {
        "colab": {
          "base_uri": "https://localhost:8080/",
          "height": 386
        },
        "id": "cV7RZ1chV0Ii",
        "outputId": "0b5f85fd-fb2c-410c-bbc1-621ad134b272"
      },
      "source": [
        "sns.lmplot(x=\"Weight\",y=\"Calories\",data=calorie_pd)"
      ],
      "execution_count": 14,
      "outputs": [
        {
          "output_type": "execute_result",
          "data": {
            "text/plain": [
              "<seaborn.axisgrid.FacetGrid at 0x7f9183d08a90>"
            ]
          },
          "metadata": {},
          "execution_count": 14
        },
        {
          "output_type": "display_data",
          "data": {
            "image/png": "[encoded data removed]",
            "text/plain": [
              "<Figure size 360x360 with 1 Axes>"
            ]
          },
          "metadata": {
            "needs_background": "light"
          }
        }
      ]
    },
    {
      "cell_type": "code",
      "metadata": {
        "colab": {
          "base_uri": "https://localhost:8080/"
        },
        "id": "5S2TO2rp_sON",
        "outputId": "ff8bd1cb-9f84-4c97-8539-5d73a9b65f24"
      },
      "source": [
        "caloriedf=caloriedf.replace(\"male\",\"0\")\n",
        "caloriedf=caloriedf.replace(\"female\",\"1\")\n",
        "caloriedf.show()"
      ],
      "execution_count": 15,
      "outputs": [
        {
          "output_type": "stream",
          "name": "stdout",
          "text": [
            "+--------+------+---+------+------+--------+----------+---------+--------+\n",
            "| User_ID|Gender|Age|Height|Weight|Duration|Heart_Rate|Body_Temp|Calories|\n",
            "+--------+------+---+------+------+--------+----------+---------+--------+\n",
            "|14733363|     0| 68|   190|    94|      29|       105|     40.8|     231|\n",
            "|14861698|     1| 20|   166|    60|      14|        94|     40.3|      66|\n",
            "|11179863|     0| 69|   179|    79|       5|        88|     38.7|      26|\n",
            "|16180408|     1| 34|   179|    71|      13|       100|     40.5|      71|\n",
            "|17771927|     1| 27|   154|    58|      10|        81|     39.8|      35|\n",
            "|15130815|     1| 36|   151|    50|      23|        96|     40.7|     123|\n",
            "|19602372|     1| 33|   158|    56|      22|        95|     40.5|     112|\n",
            "|11117088|     0| 41|   175|    85|      25|       100|     40.7|     143|\n",
            "|12132339|     0| 60|   186|    94|      21|        97|     40.4|     134|\n",
            "|17964668|     1| 26|   146|    51|      16|        90|     40.2|      72|\n",
            "|13723164|     1| 36|   177|    76|       1|        74|     37.8|       3|\n",
            "|13681290|     1| 21|   157|    56|      17|       100|     40.0|      92|\n",
            "|15566424|     0| 66|   171|    79|      11|        90|     40.0|      58|\n",
            "|12891699|     1| 32|   157|    54|      18|        93|     40.4|      88|\n",
            "|13823829|     0| 53|   182|    85|       2|        82|     38.1|       7|\n",
            "|17557348|     1| 39|   156|    62|      28|       104|     40.8|     170|\n",
            "|12198133|     0| 39|   182|    82|       4|        82|     38.6|      11|\n",
            "|15236104|     0| 46|   169|    67|      11|        89|     40.2|      43|\n",
            "|11042324|     1| 27|   171|    65|       4|        85|     38.6|      15|\n",
            "|16864285|     0| 50|   188|    86|      14|        94|     40.2|      74|\n",
            "+--------+------+---+------+------+--------+----------+---------+--------+\n",
            "only showing top 20 rows\n",
            "\n"
          ]
        }
      ]
    },
    {
      "cell_type": "code",
      "metadata": {
        "id": "TtvlCgA1BTzF"
      },
      "source": [
        "from pyspark.sql.types import IntegerType,BooleanType,DateType"
      ],
      "execution_count": 16,
      "outputs": []
    },
    {
      "cell_type": "code",
      "metadata": {
        "colab": {
          "base_uri": "https://localhost:8080/"
        },
        "id": "zJKl_G9kBwC3",
        "outputId": "7011fba9-1e0f-4bf0-e5c1-1f5ccbdeb6ca"
      },
      "source": [
        "caloriedf=caloriedf.withColumn(\"Gender\",caloriedf.Gender.cast(IntegerType()))\n",
        "caloriedf.show()\n",
        "caloriedf.printSchema()\n",
        "schema1=caloriedf.schema"
      ],
      "execution_count": 17,
      "outputs": [
        {
          "output_type": "stream",
          "name": "stdout",
          "text": [
            "+--------+------+---+------+------+--------+----------+---------+--------+\n",
            "| User_ID|Gender|Age|Height|Weight|Duration|Heart_Rate|Body_Temp|Calories|\n",
            "+--------+------+---+------+------+--------+----------+---------+--------+\n",
            "|14733363|     0| 68|   190|    94|      29|       105|     40.8|     231|\n",
            "|14861698|     1| 20|   166|    60|      14|        94|     40.3|      66|\n",
            "|11179863|     0| 69|   179|    79|       5|        88|     38.7|      26|\n",
            "|16180408|     1| 34|   179|    71|      13|       100|     40.5|      71|\n",
            "|17771927|     1| 27|   154|    58|      10|        81|     39.8|      35|\n",
            "|15130815|     1| 36|   151|    50|      23|        96|     40.7|     123|\n",
            "|19602372|     1| 33|   158|    56|      22|        95|     40.5|     112|\n",
            "|11117088|     0| 41|   175|    85|      25|       100|     40.7|     143|\n",
            "|12132339|     0| 60|   186|    94|      21|        97|     40.4|     134|\n",
            "|17964668|     1| 26|   146|    51|      16|        90|     40.2|      72|\n",
            "|13723164|     1| 36|   177|    76|       1|        74|     37.8|       3|\n",
            "|13681290|     1| 21|   157|    56|      17|       100|     40.0|      92|\n",
            "|15566424|     0| 66|   171|    79|      11|        90|     40.0|      58|\n",
            "|12891699|     1| 32|   157|    54|      18|        93|     40.4|      88|\n",
            "|13823829|     0| 53|   182|    85|       2|        82|     38.1|       7|\n",
            "|17557348|     1| 39|   156|    62|      28|       104|     40.8|     170|\n",
            "|12198133|     0| 39|   182|    82|       4|        82|     38.6|      11|\n",
            "|15236104|     0| 46|   169|    67|      11|        89|     40.2|      43|\n",
            "|11042324|     1| 27|   171|    65|       4|        85|     38.6|      15|\n",
            "|16864285|     0| 50|   188|    86|      14|        94|     40.2|      74|\n",
            "+--------+------+---+------+------+--------+----------+---------+--------+\n",
            "only showing top 20 rows\n",
            "\n",
            "root\n",
            " |-- User_ID: integer (nullable = true)\n",
            " |-- Gender: integer (nullable = true)\n",
            " |-- Age: integer (nullable = true)\n",
            " |-- Height: integer (nullable = true)\n",
            " |-- Weight: integer (nullable = true)\n",
            " |-- Duration: integer (nullable = true)\n",
            " |-- Heart_Rate: integer (nullable = true)\n",
            " |-- Body_Temp: double (nullable = true)\n",
            " |-- Calories: integer (nullable = true)\n",
            "\n"
          ]
        }
      ]
    },
    {
      "cell_type": "code",
      "metadata": {
        "id": "0UQpQTx1jkOc"
      },
      "source": [
        "from pyspark.ml.linalg import Vectors\n",
        "from pyspark.ml.feature import VectorAssembler"
      ],
      "execution_count": 18,
      "outputs": []
    },
    {
      "cell_type": "code",
      "metadata": {
        "id": "L-ZoUlv0Djy8"
      },
      "source": [
        "featureassembler=VectorAssembler(inputCols=[\"Gender\",\"Age\",\"Height\",\"Weight\",\"Duration\",\"Heart_Rate\",\"Body_Temp\"],outputCol=\"Independent Features\")"
      ],
      "execution_count": 19,
      "outputs": []
    },
    {
      "cell_type": "code",
      "metadata": {
        "id": "LOAHZcJSDuY2"
      },
      "source": [
        "output=featureassembler.transform(caloriedf)"
      ],
      "execution_count": 20,
      "outputs": []
    },
    {
      "cell_type": "code",
      "metadata": {
        "colab": {
          "base_uri": "https://localhost:8080/"
        },
        "id": "ZHDngOVzECMv",
        "outputId": "8c064d65-b128-48ae-ae3e-f0739a0b0bfd"
      },
      "source": [
        "output.show()"
      ],
      "execution_count": 21,
      "outputs": [
        {
          "output_type": "stream",
          "name": "stdout",
          "text": [
            "+--------+------+---+------+------+--------+----------+---------+--------+--------------------+\n",
            "| User_ID|Gender|Age|Height|Weight|Duration|Heart_Rate|Body_Temp|Calories|Independent Features|\n",
            "+--------+------+---+------+------+--------+----------+---------+--------+--------------------+\n",
            "|14733363|     0| 68|   190|    94|      29|       105|     40.8|     231|[0.0,68.0,190.0,9...|\n",
            "|14861698|     1| 20|   166|    60|      14|        94|     40.3|      66|[1.0,20.0,166.0,6...|\n",
            "|11179863|     0| 69|   179|    79|       5|        88|     38.7|      26|[0.0,69.0,179.0,7...|\n",
            "|16180408|     1| 34|   179|    71|      13|       100|     40.5|      71|[1.0,34.0,179.0,7...|\n",
            "|17771927|     1| 27|   154|    58|      10|        81|     39.8|      35|[1.0,27.0,154.0,5...|\n",
            "|15130815|     1| 36|   151|    50|      23|        96|     40.7|     123|[1.0,36.0,151.0,5...|\n",
            "|19602372|     1| 33|   158|    56|      22|        95|     40.5|     112|[1.0,33.0,158.0,5...|\n",
            "|11117088|     0| 41|   175|    85|      25|       100|     40.7|     143|[0.0,41.0,175.0,8...|\n",
            "|12132339|     0| 60|   186|    94|      21|        97|     40.4|     134|[0.0,60.0,186.0,9...|\n",
            "|17964668|     1| 26|   146|    51|      16|        90|     40.2|      72|[1.0,26.0,146.0,5...|\n",
            "|13723164|     1| 36|   177|    76|       1|        74|     37.8|       3|[1.0,36.0,177.0,7...|\n",
            "|13681290|     1| 21|   157|    56|      17|       100|     40.0|      92|[1.0,21.0,157.0,5...|\n",
            "|15566424|     0| 66|   171|    79|      11|        90|     40.0|      58|[0.0,66.0,171.0,7...|\n",
            "|12891699|     1| 32|   157|    54|      18|        93|     40.4|      88|[1.0,32.0,157.0,5...|\n",
            "|13823829|     0| 53|   182|    85|       2|        82|     38.1|       7|[0.0,53.0,182.0,8...|\n",
            "|17557348|     1| 39|   156|    62|      28|       104|     40.8|     170|[1.0,39.0,156.0,6...|\n",
            "|12198133|     0| 39|   182|    82|       4|        82|     38.6|      11|[0.0,39.0,182.0,8...|\n",
            "|15236104|     0| 46|   169|    67|      11|        89|     40.2|      43|[0.0,46.0,169.0,6...|\n",
            "|11042324|     1| 27|   171|    65|       4|        85|     38.6|      15|[1.0,27.0,171.0,6...|\n",
            "|16864285|     0| 50|   188|    86|      14|        94|     40.2|      74|[0.0,50.0,188.0,8...|\n",
            "+--------+------+---+------+------+--------+----------+---------+--------+--------------------+\n",
            "only showing top 20 rows\n",
            "\n"
          ]
        }
      ]
    },
    {
      "cell_type": "code",
      "metadata": {
        "colab": {
          "base_uri": "https://localhost:8080/"
        },
        "id": "UC2VGkPWEHcQ",
        "outputId": "e8c2fc3a-829d-4a82-f986-8ce338ab7a9e"
      },
      "source": [
        "output.select(\"Independent Features\").show()"
      ],
      "execution_count": 22,
      "outputs": [
        {
          "output_type": "stream",
          "name": "stdout",
          "text": [
            "+--------------------+\n",
            "|Independent Features|\n",
            "+--------------------+\n",
            "|[0.0,68.0,190.0,9...|\n",
            "|[1.0,20.0,166.0,6...|\n",
            "|[0.0,69.0,179.0,7...|\n",
            "|[1.0,34.0,179.0,7...|\n",
            "|[1.0,27.0,154.0,5...|\n",
            "|[1.0,36.0,151.0,5...|\n",
            "|[1.0,33.0,158.0,5...|\n",
            "|[0.0,41.0,175.0,8...|\n",
            "|[0.0,60.0,186.0,9...|\n",
            "|[1.0,26.0,146.0,5...|\n",
            "|[1.0,36.0,177.0,7...|\n",
            "|[1.0,21.0,157.0,5...|\n",
            "|[0.0,66.0,171.0,7...|\n",
            "|[1.0,32.0,157.0,5...|\n",
            "|[0.0,53.0,182.0,8...|\n",
            "|[1.0,39.0,156.0,6...|\n",
            "|[0.0,39.0,182.0,8...|\n",
            "|[0.0,46.0,169.0,6...|\n",
            "|[1.0,27.0,171.0,6...|\n",
            "|[0.0,50.0,188.0,8...|\n",
            "+--------------------+\n",
            "only showing top 20 rows\n",
            "\n"
          ]
        }
      ]
    },
    {
      "cell_type": "code",
      "metadata": {
        "colab": {
          "base_uri": "https://localhost:8080/"
        },
        "id": "6qd5nFrVEOOZ",
        "outputId": "9c01e207-d250-4202-b8a5-b578c8911b99"
      },
      "source": [
        "output.columns"
      ],
      "execution_count": 23,
      "outputs": [
        {
          "output_type": "execute_result",
          "data": {
            "text/plain": [
              "['User_ID',\n",
              " 'Gender',\n",
              " 'Age',\n",
              " 'Height',\n",
              " 'Weight',\n",
              " 'Duration',\n",
              " 'Heart_Rate',\n",
              " 'Body_Temp',\n",
              " 'Calories',\n",
              " 'Independent Features']"
            ]
          },
          "metadata": {},
          "execution_count": 23
        }
      ]
    },
    {
      "cell_type": "code",
      "metadata": {
        "id": "UXxN-GeAERSh"
      },
      "source": [
        "finalized_data=output.select(\"Independent Features\",\"Calories\")"
      ],
      "execution_count": 24,
      "outputs": []
    },
    {
      "cell_type": "code",
      "metadata": {
        "colab": {
          "base_uri": "https://localhost:8080/"
        },
        "id": "AWQWRLI8EXAO",
        "outputId": "fa9d24fa-19a1-4997-ff0b-1b1055c71549"
      },
      "source": [
        "finalized_data.show()"
      ],
      "execution_count": 25,
      "outputs": [
        {
          "output_type": "stream",
          "name": "stdout",
          "text": [
            "+--------------------+--------+\n",
            "|Independent Features|Calories|\n",
            "+--------------------+--------+\n",
            "|[0.0,68.0,190.0,9...|     231|\n",
            "|[1.0,20.0,166.0,6...|      66|\n",
            "|[0.0,69.0,179.0,7...|      26|\n",
            "|[1.0,34.0,179.0,7...|      71|\n",
            "|[1.0,27.0,154.0,5...|      35|\n",
            "|[1.0,36.0,151.0,5...|     123|\n",
            "|[1.0,33.0,158.0,5...|     112|\n",
            "|[0.0,41.0,175.0,8...|     143|\n",
            "|[0.0,60.0,186.0,9...|     134|\n",
            "|[1.0,26.0,146.0,5...|      72|\n",
            "|[1.0,36.0,177.0,7...|       3|\n",
            "|[1.0,21.0,157.0,5...|      92|\n",
            "|[0.0,66.0,171.0,7...|      58|\n",
            "|[1.0,32.0,157.0,5...|      88|\n",
            "|[0.0,53.0,182.0,8...|       7|\n",
            "|[1.0,39.0,156.0,6...|     170|\n",
            "|[0.0,39.0,182.0,8...|      11|\n",
            "|[0.0,46.0,169.0,6...|      43|\n",
            "|[1.0,27.0,171.0,6...|      15|\n",
            "|[0.0,50.0,188.0,8...|      74|\n",
            "+--------------------+--------+\n",
            "only showing top 20 rows\n",
            "\n"
          ]
        }
      ]
    },
    {
      "cell_type": "code",
      "metadata": {
        "id": "pdrnZ6moEZxv"
      },
      "source": [
        "train_data,test_data=finalized_data.randomSplit([0.75,0.25])"
      ],
      "execution_count": 26,
      "outputs": []
    },
    {
      "cell_type": "code",
      "metadata": {
        "id": "KWi0WnM4Epiz"
      },
      "source": [
        "from pyspark.ml.regression import LinearRegression\n",
        "from pyspark.ml.evaluation import RegressionEvaluator"
      ],
      "execution_count": 27,
      "outputs": []
    },
    {
      "cell_type": "code",
      "metadata": {
        "id": "gwMDSMimEgn-"
      },
      "source": [
        "regressor=LinearRegression(featuresCol='Independent Features', labelCol='Calories')\n",
        "regressor=regressor.fit(train_data)"
      ],
      "execution_count": 28,
      "outputs": []
    },
    {
      "cell_type": "code",
      "metadata": {
        "colab": {
          "base_uri": "https://localhost:8080/"
        },
        "id": "VWClF4GyEkVB",
        "outputId": "5b3acf1e-ae48-4d70-c39f-6ef33b098ccf"
      },
      "source": [
        "regressor.coefficients"
      ],
      "execution_count": 29,
      "outputs": [
        {
          "output_type": "execute_result",
          "data": {
            "text/plain": [
              "DenseVector([1.1501, 0.4995, -0.1931, 0.3078, 6.6617, 1.9802, -17.1487])"
            ]
          },
          "metadata": {},
          "execution_count": 29
        }
      ]
    },
    {
      "cell_type": "code",
      "metadata": {
        "colab": {
          "base_uri": "https://localhost:8080/"
        },
        "id": "z1z57BAgEuor",
        "outputId": "5744fcaa-e8d5-4bab-de2e-15e0ab9d44b1"
      },
      "source": [
        "regressor.intercept"
      ],
      "execution_count": 30,
      "outputs": [
        {
          "output_type": "execute_result",
          "data": {
            "text/plain": [
              "472.011746136485"
            ]
          },
          "metadata": {},
          "execution_count": 30
        }
      ]
    },
    {
      "cell_type": "code",
      "metadata": {
        "id": "xE8hvU2bEw2z"
      },
      "source": [
        "pred_results=regressor.evaluate(test_data)"
      ],
      "execution_count": 31,
      "outputs": []
    },
    {
      "cell_type": "code",
      "metadata": {
        "colab": {
          "base_uri": "https://localhost:8080/"
        },
        "id": "9mxm4I7NEy_O",
        "outputId": "2f4184a4-bb5d-4880-8b6c-2b17bab2adb2"
      },
      "source": [
        "pred_results.predictions.show(40)"
      ],
      "execution_count": 32,
      "outputs": [
        {
          "output_type": "stream",
          "name": "stderr",
          "text": [
            "/usr/local/lib/python3.7/dist-packages/pyspark/sql/context.py:127: FutureWarning: Deprecated in 3.0.0. Use SparkSession.builder.getOrCreate() instead.\n",
            "  FutureWarning\n"
          ]
        },
        {
          "output_type": "stream",
          "name": "stdout",
          "text": [
            "+--------------------+--------+-------------------+\n",
            "|Independent Features|Calories|         prediction|\n",
            "+--------------------+--------+-------------------+\n",
            "|[0.0,20.0,163.0,6...|       2| -17.24470712736047|\n",
            "|[0.0,20.0,166.0,6...|      14|  4.301541730191786|\n",
            "|[0.0,20.0,166.0,7...|      21| 28.018482466418106|\n",
            "|[0.0,20.0,167.0,6...|      35|  38.81417372187235|\n",
            "|[0.0,20.0,167.0,6...|      29| 25.798617604541846|\n",
            "|[0.0,20.0,168.0,7...|      17| 12.586610050956722|\n",
            "|[0.0,20.0,170.0,7...|     134| 154.71102163860024|\n",
            "|[0.0,20.0,173.0,7...|      55|  65.43557205597222|\n",
            "|[0.0,20.0,173.0,7...|       4|-0.8759409591322651|\n",
            "|[0.0,20.0,173.0,7...|      31| 31.568356537334807|\n",
            "|[0.0,20.0,173.0,7...|       3|  -9.23826361800127|\n",
            "|[0.0,20.0,174.0,6...|      69|  84.14878752907748|\n",
            "|[0.0,20.0,176.0,7...|       4| -6.642145030492486|\n",
            "|[0.0,20.0,176.0,7...|      72|   81.1008006571684|\n",
            "|[0.0,20.0,176.0,8...|      86|  99.75039045173509|\n",
            "|[0.0,20.0,177.0,7...|       6| 1.1326023545995554|\n",
            "|[0.0,20.0,178.0,7...|      45|  55.58475548409751|\n",
            "|[0.0,20.0,178.0,7...|      22| 23.845621960651044|\n",
            "|[0.0,20.0,178.0,7...|      34|  43.37498309471573|\n",
            "|[0.0,20.0,178.0,8...|     129|  148.9699939407103|\n",
            "|[0.0,20.0,179.0,7...|      99| 108.52740665650975|\n",
            "|[0.0,20.0,179.0,7...|       9|  4.476415497727487|\n",
            "|[0.0,20.0,179.0,7...|      41|  54.54259936643865|\n",
            "|[0.0,20.0,179.0,7...|      36|  44.95677894640403|\n",
            "|[0.0,20.0,180.0,7...|      61|  76.27989041976093|\n",
            "|[0.0,20.0,180.0,7...|      14|  8.611561407287695|\n",
            "|[0.0,20.0,180.0,8...|     155| 173.76034781532286|\n",
            "|[0.0,20.0,181.0,7...|      63|  72.92244861706746|\n",
            "|[0.0,20.0,181.0,8...|     188| 190.12702486600188|\n",
            "|[0.0,20.0,182.0,8...|       6| -8.531010527431533|\n",
            "|[0.0,20.0,182.0,8...|       8| 3.6581172968130886|\n",
            "|[0.0,20.0,182.0,8...|      10|  8.339549349875824|\n",
            "|[0.0,20.0,182.0,9...|      96| 109.58298139948567|\n",
            "|[0.0,20.0,183.0,8...|      41| 43.050324760938054|\n",
            "|[0.0,20.0,183.0,8...|      14|  2.146138993464092|\n",
            "|[0.0,20.0,183.0,8...|      52| 63.537824025385135|\n",
            "|[0.0,20.0,183.0,8...|     130|  140.3329702944019|\n",
            "|[0.0,20.0,183.0,8...|      69|  77.90193704836867|\n",
            "|[0.0,20.0,185.0,7...|      81|  96.71114512400385|\n",
            "|[0.0,20.0,185.0,8...|      74|  84.05330930066901|\n",
            "+--------------------+--------+-------------------+\n",
            "only showing top 40 rows\n",
            "\n"
          ]
        }
      ]
    },
    {
      "cell_type": "code",
      "metadata": {
        "id": "PHYPErOqJox6"
      },
      "source": [
        "from pyspark.ml.regression import RandomForestRegressor"
      ],
      "execution_count": 35,
      "outputs": []
    },
    {
      "cell_type": "code",
      "metadata": {
        "id": "xDKypv98DhSJ"
      },
      "source": [
        "randomforestregressor=RandomForestRegressor(featuresCol='Independent Features', labelCol='Calories')\n",
        "randomforestregressor=randomforestregressor.fit(train_data)"
      ],
      "execution_count": 36,
      "outputs": []
    },
    {
      "cell_type": "code",
      "metadata": {
        "id": "N_OXXIEwEAv5"
      },
      "source": [
        "forestpred=randomforestregressor.transform(test_data)"
      ],
      "execution_count": 37,
      "outputs": []
    },
    {
      "cell_type": "code",
      "metadata": {
        "colab": {
          "base_uri": "https://localhost:8080/"
        },
        "id": "l2x577XXJIlQ",
        "outputId": "d005a03d-beb3-4d55-e6a8-4d032950ec9d"
      },
      "source": [
        "forestpred.show(40)"
      ],
      "execution_count": 38,
      "outputs": [
        {
          "output_type": "stream",
          "name": "stdout",
          "text": [
            "+--------------------+--------+------------------+\n",
            "|Independent Features|Calories|        prediction|\n",
            "+--------------------+--------+------------------+\n",
            "|[0.0,20.0,163.0,6...|       2|  8.69269895377587|\n",
            "|[0.0,20.0,166.0,6...|      14| 34.36761199885351|\n",
            "|[0.0,20.0,166.0,7...|      21| 26.99893011469548|\n",
            "|[0.0,20.0,167.0,6...|      35| 58.62117319520394|\n",
            "|[0.0,20.0,167.0,6...|      29| 55.63280039815122|\n",
            "|[0.0,20.0,168.0,7...|      17|25.626103121358785|\n",
            "|[0.0,20.0,170.0,7...|     134|157.77110793727974|\n",
            "|[0.0,20.0,173.0,7...|      55| 71.97857176779334|\n",
            "|[0.0,20.0,173.0,7...|       4| 8.187589703686228|\n",
            "|[0.0,20.0,173.0,7...|      31| 48.25220665432086|\n",
            "|[0.0,20.0,173.0,7...|       3| 7.638248494717587|\n",
            "|[0.0,20.0,174.0,6...|      69| 89.38270417543427|\n",
            "|[0.0,20.0,176.0,7...|       4| 9.402837572781978|\n",
            "|[0.0,20.0,176.0,7...|      72|106.71995686564814|\n",
            "|[0.0,20.0,176.0,8...|      86|103.25242940940659|\n",
            "|[0.0,20.0,177.0,7...|       6|12.704494701903583|\n",
            "|[0.0,20.0,178.0,7...|      45| 58.92236224235229|\n",
            "|[0.0,20.0,178.0,7...|      22|30.151192315282053|\n",
            "|[0.0,20.0,178.0,7...|      34|46.314244280278594|\n",
            "|[0.0,20.0,178.0,8...|     129|143.59102311935413|\n",
            "|[0.0,20.0,179.0,7...|      99|104.74686566668622|\n",
            "|[0.0,20.0,179.0,7...|       9|13.600094811993305|\n",
            "|[0.0,20.0,179.0,7...|      41| 66.22919854042843|\n",
            "|[0.0,20.0,179.0,7...|      36|54.067418914365575|\n",
            "|[0.0,20.0,180.0,7...|      61| 80.91224012743302|\n",
            "|[0.0,20.0,180.0,7...|      14|  26.9692594583294|\n",
            "|[0.0,20.0,180.0,8...|     155|163.02268300230617|\n",
            "|[0.0,20.0,181.0,7...|      63| 85.42356319583051|\n",
            "|[0.0,20.0,181.0,8...|     188|193.95273460307567|\n",
            "|[0.0,20.0,182.0,8...|       6|10.724632104375061|\n",
            "|[0.0,20.0,182.0,8...|       8|11.767544276779438|\n",
            "|[0.0,20.0,182.0,8...|      10|13.832062218915695|\n",
            "|[0.0,20.0,182.0,9...|      96|111.06838785725942|\n",
            "|[0.0,20.0,183.0,8...|      41| 59.90441053985933|\n",
            "|[0.0,20.0,183.0,8...|      14|20.293723557741266|\n",
            "|[0.0,20.0,183.0,8...|      52| 70.44653819287842|\n",
            "|[0.0,20.0,183.0,8...|     130|  134.202246856689|\n",
            "|[0.0,20.0,183.0,8...|      69| 87.78579843608398|\n",
            "|[0.0,20.0,185.0,7...|      81|103.50352181424682|\n",
            "|[0.0,20.0,185.0,8...|      74| 86.22912647220059|\n",
            "+--------------------+--------+------------------+\n",
            "only showing top 40 rows\n",
            "\n"
          ]
        }
      ]
    },
    {
      "cell_type": "code",
      "metadata": {
        "id": "7iTGlH7VEIbp"
      },
      "source": [
        "evaluator = RegressionEvaluator(labelCol=\"Calories\", predictionCol=\"prediction\", metricName=\"rmse\")\n",
        "rmse = evaluator.evaluate(forestpred)"
      ],
      "execution_count": 39,
      "outputs": []
    },
    {
      "cell_type": "code",
      "metadata": {
        "colab": {
          "base_uri": "https://localhost:8080/"
        },
        "id": "xHxQK93BEVqj",
        "outputId": "b0bf0118-977b-4ce4-81a3-15c3c5ef2546"
      },
      "source": [
        "print(rmse)"
      ],
      "execution_count": 40,
      "outputs": [
        {
          "output_type": "stream",
          "name": "stdout",
          "text": [
            "10.228071585770543\n"
          ]
        }
      ]
    },
    {
      "cell_type": "code",
      "metadata": {
        "id": "kkL0fTlqIyAD"
      },
      "source": [
        "from pyspark.ml.regression import GBTRegressor"
      ],
      "execution_count": 41,
      "outputs": []
    },
    {
      "cell_type": "code",
      "metadata": {
        "id": "vkIuZ1JaLx0O"
      },
      "source": [
        "gbt=GBTRegressor(featuresCol='Independent Features', labelCol='Calories')"
      ],
      "execution_count": 42,
      "outputs": []
    },
    {
      "cell_type": "code",
      "metadata": {
        "id": "2ah0rYLLL5b6"
      },
      "source": [
        "gbt=gbt.fit(train_data)"
      ],
      "execution_count": 43,
      "outputs": []
    },
    {
      "cell_type": "code",
      "metadata": {
        "id": "O4FHwRfeL8k9"
      },
      "source": [
        "gbtpred=gbt.transform(test_data)"
      ],
      "execution_count": 44,
      "outputs": []
    },
    {
      "cell_type": "code",
      "metadata": {
        "colab": {
          "base_uri": "https://localhost:8080/"
        },
        "id": "a3isx_P1MILZ",
        "outputId": "ab36ed66-eb53-49e3-a638-a151cf7c011b"
      },
      "source": [
        "gbtpred.show()"
      ],
      "execution_count": 45,
      "outputs": [
        {
          "output_type": "stream",
          "name": "stdout",
          "text": [
            "+--------------------+--------+--------------------+\n",
            "|Independent Features|Calories|          prediction|\n",
            "+--------------------+--------+--------------------+\n",
            "|[0.0,20.0,163.0,6...|       2|  -0.573755808471853|\n",
            "|[0.0,20.0,166.0,6...|      14|  15.927959633921871|\n",
            "|[0.0,20.0,166.0,7...|      21|    19.1751072567441|\n",
            "|[0.0,20.0,167.0,6...|      35|  31.703643749426725|\n",
            "|[0.0,20.0,167.0,6...|      29|  31.070769186712788|\n",
            "|[0.0,20.0,168.0,7...|      17|   17.68962238559287|\n",
            "|[0.0,20.0,170.0,7...|     134|  143.23989179230438|\n",
            "|[0.0,20.0,173.0,7...|      55|   54.20681471040923|\n",
            "|[0.0,20.0,173.0,7...|       4|  -0.573755808471853|\n",
            "|[0.0,20.0,173.0,7...|      31|  27.772608695331208|\n",
            "|[0.0,20.0,173.0,7...|       3|-0.46469993846816404|\n",
            "|[0.0,20.0,174.0,6...|      69|   75.09200571964783|\n",
            "|[0.0,20.0,176.0,7...|       4|-0.07797717434334409|\n",
            "|[0.0,20.0,176.0,7...|      72|   72.78341009858777|\n",
            "|[0.0,20.0,176.0,8...|      86|   99.61452520932546|\n",
            "|[0.0,20.0,177.0,7...|       6|   0.642894154653695|\n",
            "|[0.0,20.0,178.0,7...|      45|   44.73914259750852|\n",
            "|[0.0,20.0,178.0,7...|      22|  27.494181594966182|\n",
            "|[0.0,20.0,178.0,7...|      34|   32.91748558981217|\n",
            "|[0.0,20.0,178.0,8...|     129|   131.5136877251037|\n",
            "+--------------------+--------+--------------------+\n",
            "only showing top 20 rows\n",
            "\n"
          ]
        }
      ]
    },
    {
      "cell_type": "code",
      "metadata": {
        "id": "mG4YwuXjMPSW"
      },
      "source": [
        "evaluator = RegressionEvaluator(\n",
        "    labelCol=\"Calories\", predictionCol=\"prediction\", metricName=\"rmse\")\n",
        "rmse = evaluator.evaluate(gbtpred)"
      ],
      "execution_count": 46,
      "outputs": []
    },
    {
      "cell_type": "code",
      "metadata": {
        "colab": {
          "base_uri": "https://localhost:8080/"
        },
        "id": "2_JsvFlLMWjl",
        "outputId": "c2742cab-6e8a-49b9-e1d7-a03027e563ff"
      },
      "source": [
        "rmse"
      ],
      "execution_count": 48,
      "outputs": [
        {
          "output_type": "execute_result",
          "data": {
            "text/plain": [
              "7.045910911353158"
            ]
          },
          "metadata": {},
          "execution_count": 48
        }
      ]
    },
    {
      "cell_type": "code",
      "metadata": {
        "id": "Gk_Z9Qd7ybjg"
      },
      "source": [
        "data=[[11117088,1,20,166,60,14,94,40.3,0]]\n",
        "rdd = spark.sparkContext.parallelize(data)"
      ],
      "execution_count": 51,
      "outputs": []
    },
    {
      "cell_type": "code",
      "metadata": {
        "id": "t3SvRhyRyjGN"
      },
      "source": [
        "df = spark.createDataFrame(rdd,schema1)"
      ],
      "execution_count": 53,
      "outputs": []
    },
    {
      "cell_type": "code",
      "metadata": {
        "colab": {
          "base_uri": "https://localhost:8080/"
        },
        "id": "qwRW6mxbypeJ",
        "outputId": "f9e392d9-dad8-4b52-820c-f85b4562c2a3"
      },
      "source": [
        "df.show()"
      ],
      "execution_count": 55,
      "outputs": [
        {
          "output_type": "stream",
          "name": "stdout",
          "text": [
            "+--------+------+---+------+------+--------+----------+---------+--------+\n",
            "| User_ID|Gender|Age|Height|Weight|Duration|Heart_Rate|Body_Temp|Calories|\n",
            "+--------+------+---+------+------+--------+----------+---------+--------+\n",
            "|11117088|     1| 20|   166|    60|      14|        94|     40.3|       0|\n",
            "+--------+------+---+------+------+--------+----------+---------+--------+\n",
            "\n"
          ]
        }
      ]
    },
    {
      "cell_type": "code",
      "metadata": {
        "id": "T4CX2k5yyqaa"
      },
      "source": [
        "df1=featureassembler.transform(df)"
      ],
      "execution_count": 59,
      "outputs": []
    },
    {
      "cell_type": "code",
      "metadata": {
        "id": "fJcTkJDdzSjK"
      },
      "source": [
        "pandasdf=gbt.transform(df1).toPandas()"
      ],
      "execution_count": 76,
      "outputs": []
    },
    {
      "cell_type": "code",
      "metadata": {
        "colab": {
          "base_uri": "https://localhost:8080/",
          "height": 80
        },
        "id": "qxung8opz9WL",
        "outputId": "1b34bb61-c5b1-402b-9721-b412648c084a"
      },
      "source": [
        "pandasdf"
      ],
      "execution_count": 77,
      "outputs": [
        {
          "output_type": "execute_result",
          "data": {
            "text/html": [
              "<div>\n",
              "<style scoped>\n",
              "    .dataframe tbody tr th:only-of-type {\n",
              "        vertical-align: middle;\n",
              "    }\n",
              "\n",
              "    .dataframe tbody tr th {\n",
              "        vertical-align: top;\n",
              "    }\n",
              "\n",
              "    .dataframe thead th {\n",
              "        text-align: right;\n",
              "    }\n",
              "</style>\n",
              "<table border=\"1\" class=\"dataframe\">\n",
              "  <thead>\n",
              "    <tr style=\"text-align: right;\">\n",
              "      <th></th>\n",
              "      <th>User_ID</th>\n",
              "      <th>Gender</th>\n",
              "      <th>Age</th>\n",
              "      <th>Height</th>\n",
              "      <th>Weight</th>\n",
              "      <th>Duration</th>\n",
              "      <th>Heart_Rate</th>\n",
              "      <th>Body_Temp</th>\n",
              "      <th>Calories</th>\n",
              "      <th>Independent Features</th>\n",
              "      <th>prediction</th>\n",
              "    </tr>\n",
              "  </thead>\n",
              "  <tbody>\n",
              "    <tr>\n",
              "      <th>0</th>\n",
              "      <td>11117088</td>\n",
              "      <td>1</td>\n",
              "      <td>20</td>\n",
              "      <td>166</td>\n",
              "      <td>60</td>\n",
              "      <td>14</td>\n",
              "      <td>94</td>\n",
              "      <td>40.3</td>\n",
              "      <td>0</td>\n",
              "      <td>[1.0, 20.0, 166.0, 60.0, 14.0, 94.0, 40.3]</td>\n",
              "      <td>67.62061</td>\n",
              "    </tr>\n",
              "  </tbody>\n",
              "</table>\n",
              "</div>"
            ],
            "text/plain": [
              "    User_ID  Gender  ...                        Independent Features  prediction\n",
              "0  11117088       1  ...  [1.0, 20.0, 166.0, 60.0, 14.0, 94.0, 40.3]    67.62061\n",
              "\n",
              "[1 rows x 11 columns]"
            ]
          },
          "metadata": {},
          "execution_count": 77
        }
      ]
    },
    {
      "cell_type": "code",
      "metadata": {
        "colab": {
          "base_uri": "https://localhost:8080/"
        },
        "id": "bGBvA-KDzwLc",
        "outputId": "ca252d9f-12cc-4156-c44f-41ce9fa512c0"
      },
      "source": [
        "print(pandasdf.iloc[0]['prediction'])"
      ],
      "execution_count": 82,
      "outputs": [
        {
          "output_type": "stream",
          "name": "stdout",
          "text": [
            "67.62060951591543\n"
          ]
        }
      ]
    },
    {
      "cell_type": "code",
      "metadata": {
        "id": "8wm1yG_eOcfq",
        "colab": {
          "base_uri": "https://localhost:8080/"
        },
        "outputId": "c2f968bf-4522-4ec6-d4ff-23ec6c7c4ddb"
      },
      "source": [
        "print(type(gbt))"
      ],
      "execution_count": 83,
      "outputs": [
        {
          "output_type": "stream",
          "name": "stdout",
          "text": [
            "<class 'pyspark.ml.regression.GBTRegressionModel'>\n"
          ]
        }
      ]
    },
    {
      "cell_type": "code",
      "metadata": {
        "id": "RaTDIIkPPaW6"
      },
      "source": [
        "from pyspark.ml.regression import GBTRegressionModel"
      ],
      "execution_count": 84,
      "outputs": []
    },
    {
      "cell_type": "code",
      "metadata": {
        "colab": {
          "base_uri": "https://localhost:8080/"
        },
        "id": "ozImbWyYlnEU",
        "outputId": "dbae5888-03e7-45ee-8512-ad699ddcf7a7"
      },
      "source": [
        "from google.colab import drive\n",
        "drive.mount('/content/drive')"
      ],
      "execution_count": 85,
      "outputs": [
        {
          "output_type": "stream",
          "name": "stdout",
          "text": [
            "Mounted at /content/drive\n"
          ]
        }
      ]
    },
    {
      "cell_type": "code",
      "metadata": {
        "id": "izW5Va1PSySf"
      },
      "source": [
        "gbt.save(\"/content/drive/My Drive/caloriemodelfilefinalsav\")"
      ],
      "execution_count": 89,
      "outputs": []
    },
    {
      "cell_type": "code",
      "metadata": {
        "id": "38H4_kGVTwae"
      },
      "source": [
        "persistedModel = GBTRegressionModel.load(\"/content/drive/My Drive/caloriemodelfilefinalsav\")"
      ],
      "execution_count": 93,
      "outputs": []
    },
    {
      "cell_type": "code",
      "metadata": {
        "id": "9AVaj99_b_ju"
      },
      "source": [
        "data=[[11117088,1,20,166,60,14,94,40.3,0]]\n",
        "rdd = spark.sparkContext.parallelize(data)"
      ],
      "execution_count": 94,
      "outputs": []
    },
    {
      "cell_type": "code",
      "metadata": {
        "id": "Y_VmVuqSeETg"
      },
      "source": [
        "df = spark.createDataFrame(rdd,schema1)"
      ],
      "execution_count": 95,
      "outputs": []
    },
    {
      "cell_type": "code",
      "metadata": {
        "colab": {
          "base_uri": "https://localhost:8080/"
        },
        "id": "-ZFlx2jTeLUD",
        "outputId": "dcd15f9f-be43-4785-8536-6fccc7c2f090"
      },
      "source": [
        "df.show()"
      ],
      "execution_count": 96,
      "outputs": [
        {
          "output_type": "stream",
          "name": "stdout",
          "text": [
            "+--------+------+---+------+------+--------+----------+---------+--------+\n",
            "| User_ID|Gender|Age|Height|Weight|Duration|Heart_Rate|Body_Temp|Calories|\n",
            "+--------+------+---+------+------+--------+----------+---------+--------+\n",
            "|11117088|     1| 20|   166|    60|      14|        94|     40.3|       0|\n",
            "+--------+------+---+------+------+--------+----------+---------+--------+\n",
            "\n"
          ]
        }
      ]
    },
    {
      "cell_type": "code",
      "metadata": {
        "id": "CYvavGUbermd"
      },
      "source": [
        "df1=featureassembler.transform(df)"
      ],
      "execution_count": 97,
      "outputs": []
    },
    {
      "cell_type": "code",
      "metadata": {
        "colab": {
          "base_uri": "https://localhost:8080/"
        },
        "id": "Wy-Mmc1de4fS",
        "outputId": "78ca3cf3-534e-4623-ea12-4f2d410c5090"
      },
      "source": [
        "df1.show()"
      ],
      "execution_count": 98,
      "outputs": [
        {
          "output_type": "stream",
          "name": "stdout",
          "text": [
            "+--------+------+---+------+------+--------+----------+---------+--------+--------------------+\n",
            "| User_ID|Gender|Age|Height|Weight|Duration|Heart_Rate|Body_Temp|Calories|Independent Features|\n",
            "+--------+------+---+------+------+--------+----------+---------+--------+--------------------+\n",
            "|11117088|     1| 20|   166|    60|      14|        94|     40.3|       0|[1.0,20.0,166.0,6...|\n",
            "+--------+------+---+------+------+--------+----------+---------+--------+--------------------+\n",
            "\n"
          ]
        }
      ]
    },
    {
      "cell_type": "code",
      "metadata": {
        "colab": {
          "base_uri": "https://localhost:8080/"
        },
        "id": "i11W24MXe7ti",
        "outputId": "8c2ef1be-31f0-496f-c9a6-cb80ec485f6e"
      },
      "source": [
        "persistedModel.transform(df1).show()"
      ],
      "execution_count": 99,
      "outputs": [
        {
          "output_type": "stream",
          "name": "stdout",
          "text": [
            "+--------+------+---+------+------+--------+----------+---------+--------+--------------------+-----------------+\n",
            "| User_ID|Gender|Age|Height|Weight|Duration|Heart_Rate|Body_Temp|Calories|Independent Features|       prediction|\n",
            "+--------+------+---+------+------+--------+----------+---------+--------+--------------------+-----------------+\n",
            "|11117088|     1| 20|   166|    60|      14|        94|     40.3|       0|[1.0,20.0,166.0,6...|67.62060951591543|\n",
            "+--------+------+---+------+------+--------+----------+---------+--------+--------------------+-----------------+\n",
            "\n"
          ]
        }
      ]
    },
    {
      "cell_type": "code",
      "metadata": {
        "colab": {
          "base_uri": "https://localhost:8080/"
        },
        "id": "8EQV63sKRNEl",
        "outputId": "334787b5-a2b0-43ab-dbdf-073c1a23bfeb"
      },
      "source": [
        "persistedModel"
      ],
      "execution_count": 100,
      "outputs": [
        {
          "output_type": "execute_result",
          "data": {
            "text/plain": [
              "GBTRegressionModel: uid=GBTRegressor_b8be8dc6fd67, numTrees=20, numFeatures=7"
            ]
          },
          "metadata": {},
          "execution_count": 100
        }
      ]
    },
    {
      "cell_type": "code",
      "metadata": {
        "id": "nryC5rXgQXkD"
      },
      "source": [
        "gbtpred_pd=gbtpred.toPandas()"
      ],
      "execution_count": 101,
      "outputs": []
    },
    {
      "cell_type": "code",
      "metadata": {
        "colab": {
          "base_uri": "https://localhost:8080/"
        },
        "id": "1EiCHsvbiQX3",
        "outputId": "e5b3fb02-9ef5-4f43-89f0-320a60a869be"
      },
      "source": [
        "gbtpred_pd['prediction'].min()"
      ],
      "execution_count": 102,
      "outputs": [
        {
          "output_type": "execute_result",
          "data": {
            "text/plain": [
              "-0.573755808471853"
            ]
          },
          "metadata": {},
          "execution_count": 102
        }
      ]
    },
    {
      "cell_type": "code",
      "metadata": {
        "colab": {
          "base_uri": "https://localhost:8080/",
          "height": 203
        },
        "id": "cf5hY8TfiaAu",
        "outputId": "6cd4bf70-70d0-4924-9182-b2528488281b"
      },
      "source": [
        "gbtpred_pd[gbtpred_pd[\"prediction\"]<0]"
      ],
      "execution_count": 103,
      "outputs": [
        {
          "output_type": "execute_result",
          "data": {
            "text/html": [
              "<div>\n",
              "<style scoped>\n",
              "    .dataframe tbody tr th:only-of-type {\n",
              "        vertical-align: middle;\n",
              "    }\n",
              "\n",
              "    .dataframe tbody tr th {\n",
              "        vertical-align: top;\n",
              "    }\n",
              "\n",
              "    .dataframe thead th {\n",
              "        text-align: right;\n",
              "    }\n",
              "</style>\n",
              "<table border=\"1\" class=\"dataframe\">\n",
              "  <thead>\n",
              "    <tr style=\"text-align: right;\">\n",
              "      <th></th>\n",
              "      <th>Independent Features</th>\n",
              "      <th>Calories</th>\n",
              "      <th>prediction</th>\n",
              "    </tr>\n",
              "  </thead>\n",
              "  <tbody>\n",
              "    <tr>\n",
              "      <th>0</th>\n",
              "      <td>[0.0, 20.0, 163.0, 69.0, 2.0, 78.0, 38.3]</td>\n",
              "      <td>2</td>\n",
              "      <td>-0.573756</td>\n",
              "    </tr>\n",
              "    <tr>\n",
              "      <th>8</th>\n",
              "      <td>[0.0, 20.0, 173.0, 74.0, 2.0, 83.0, 37.9]</td>\n",
              "      <td>4</td>\n",
              "      <td>-0.573756</td>\n",
              "    </tr>\n",
              "    <tr>\n",
              "      <th>10</th>\n",
              "      <td>[0.0, 20.0, 173.0, 79.0, 2.0, 78.0, 37.9]</td>\n",
              "      <td>3</td>\n",
              "      <td>-0.464700</td>\n",
              "    </tr>\n",
              "    <tr>\n",
              "      <th>12</th>\n",
              "      <td>[0.0, 20.0, 176.0, 73.0, 2.0, 84.0, 38.3]</td>\n",
              "      <td>4</td>\n",
              "      <td>-0.077977</td>\n",
              "    </tr>\n",
              "    <tr>\n",
              "      <th>237</th>\n",
              "      <td>[0.0, 24.0, 173.0, 70.0, 1.0, 79.0, 37.7]</td>\n",
              "      <td>1</td>\n",
              "      <td>-0.573756</td>\n",
              "    </tr>\n",
              "  </tbody>\n",
              "</table>\n",
              "</div>"
            ],
            "text/plain": [
              "                          Independent Features  Calories  prediction\n",
              "0    [0.0, 20.0, 163.0, 69.0, 2.0, 78.0, 38.3]         2   -0.573756\n",
              "8    [0.0, 20.0, 173.0, 74.0, 2.0, 83.0, 37.9]         4   -0.573756\n",
              "10   [0.0, 20.0, 173.0, 79.0, 2.0, 78.0, 37.9]         3   -0.464700\n",
              "12   [0.0, 20.0, 176.0, 73.0, 2.0, 84.0, 38.3]         4   -0.077977\n",
              "237  [0.0, 24.0, 173.0, 70.0, 1.0, 79.0, 37.7]         1   -0.573756"
            ]
          },
          "metadata": {},
          "execution_count": 103
        }
      ]
    },
    {
      "cell_type": "code",
      "metadata": {
        "colab": {
          "base_uri": "https://localhost:8080/"
        },
        "id": "CDBTwq2TjkEY",
        "outputId": "28d8643e-f48f-4d56-faf2-850459fad9d9"
      },
      "source": [
        "caloriedf.printSchema()"
      ],
      "execution_count": 104,
      "outputs": [
        {
          "output_type": "stream",
          "name": "stdout",
          "text": [
            "root\n",
            " |-- User_ID: integer (nullable = true)\n",
            " |-- Gender: integer (nullable = true)\n",
            " |-- Age: integer (nullable = true)\n",
            " |-- Height: integer (nullable = true)\n",
            " |-- Weight: integer (nullable = true)\n",
            " |-- Duration: integer (nullable = true)\n",
            " |-- Heart_Rate: integer (nullable = true)\n",
            " |-- Body_Temp: double (nullable = true)\n",
            " |-- Calories: integer (nullable = true)\n",
            "\n"
          ]
        }
      ]
    },
    {
      "cell_type": "code",
      "metadata": {
        "id": "MBKLgT_W6NOe"
      },
      "source": [
        ""
      ],
      "execution_count": null,
      "outputs": []
    }
  ]
}